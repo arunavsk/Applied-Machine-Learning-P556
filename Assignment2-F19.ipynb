{
 "cells": [
  {
   "cell_type": "markdown",
   "metadata": {
    "colab_type": "text",
    "id": "R--G1S4LFVR9"
   },
   "source": [
    "CSCI-P556: Applied Machine Learning\n",
    "Fall 2018\n",
    "Assignment #2\n",
    "---\n",
    "\n"
   ]
  },
  {
   "cell_type": "markdown",
   "metadata": {
    "colab_type": "text",
    "id": "Ooye3d-VGooZ"
   },
   "source": [
    "## Problem 1 (50 points)\n",
    "\n",
    "In this problem you will be working with Bank Marketing Dataset. We encourage your to look at the description and make yourself comfortable with it: https://archive.ics.uci.edu/ml/datasets/bank+marketing\n",
    "\n",
    "Two pairs of training and validation sets have been drawn from this dataset for you to work with, namely: \n",
    " -  `train_1.csv` and `valid_1.csv`\n",
    " -  `train_2.csv`and `valid_2.csv`\n",
    " \n",
    "Finally, we have also provided a `test.csv` which is common for both settings.\n",
    "\n",
    "### Task 0: (3 points)\n",
    "\n",
    "What is the difference between the two sets of train/validation sets? Write your answer here:\n",
    "\n",
    "### Ans: \n",
    "Although at first glance the two sets of train/validation sets looks identical on close inspection it turns out that for set 1 the distribution of 0's and 1's (i.e. dependent/target variable) is identical (~50%) whereas for set 2 the distribution of the dependent variable is skewed with an event rate of around 13%\n"
   ]
  },
  {
   "cell_type": "markdown",
   "metadata": {
    "colab_type": "text",
    "id": "MFKZT4mhJlSK"
   },
   "source": [
    "### Task 1 (Data Preprocessing) (12 points)\n",
    "\n",
    "Before you can train a machine learning model using this dataset, you will have to run a number of preprocessing steps to transform the data into a form which will be acceptable to the model. In this task, you are supposed to carry out the follow steps:\n",
    "\n",
    "1.  Find all features that have continuous numeric values and normalize them in the same way as you did in Assignment 1. List those features here.\n",
    "2. Find all categorical features and process them as was discussed in class. List those features and explain what you did.\n",
    "3. Are there any features which have missing values? (Hint: Missing values aren't always nicely represented and can be misleading sometimes). Find those features and explain how you will handle them.\n",
    "\n"
   ]
  },
  {
   "cell_type": "markdown",
   "metadata": {
    "colab_type": "text",
    "id": "uLoZ67_hPo9I"
   },
   "source": [
    "Write your text-based answers here.\n",
    "\n",
    "\n",
    "1.   The numerical features are - *age, balance, duration, pdays, previous, campaign and day*\n",
    "2.  The categorical features are - *job, marital, education, default, housing, loan, contact, month, poutcome*. \\\n",
    "Out of these some are binary categorical variables whereas some have more than 2 factors/levels. For the categorical variables that are binary (e.g. *default, housing, loan*) we can go ahead and encode them as \\\n",
    "'no' - 0 and 'yes' - 1. \\\n",
    "On the other hand, for the categorical variables with more than 2 levels ( e.g. *job, marital, education, contact, month, poutcome*) we can create dummy variables\n",
    "3.   There are a few categorical variables which have 'unknown' as one of the levels. We will not treat these as missing values but as seperate category. On the other hand for the numeric feature 'pdays' we see 74% of the values are -1, we will have to perform missing value treatment (replace with median) for this variable\n",
    "\n"
   ]
  },
  {
   "cell_type": "code",
   "execution_count": 198,
   "metadata": {},
   "outputs": [
    {
     "data": {
      "text/plain": [
       "0.7475254838233122"
      ]
     },
     "execution_count": 198,
     "metadata": {},
     "output_type": "execute_result"
    }
   ],
   "source": [
    "import pandas as pd\n",
    "train_1 = pd.read_csv('./train_1.csv')\n",
    "len(train_1[train_1['pdays']==-1])/len(train_1)"
   ]
  },
  {
   "cell_type": "markdown",
   "metadata": {},
   "source": [
    "**Preprocessing**"
   ]
  },
  {
   "cell_type": "code",
   "execution_count": 203,
   "metadata": {},
   "outputs": [],
   "source": [
    "import pandas as pd\n",
    "import numpy as np\n",
    "from sklearn.preprocessing import LabelEncoder, LabelBinarizer, label_binarize\n",
    "from sklearn.linear_model import LogisticRegression\n",
    "from sklearn.metrics import accuracy_score, roc_auc_score\n",
    "import matplotlib.pyplot as plt\n",
    "\n",
    "def calculate_stats(X, numeric_cols):\n",
    "    \n",
    "    x_u = np.mean(X[numeric_cols].to_numpy(), axis = 0)\n",
    "    \n",
    "    x_norm = np.linalg.norm(X[numeric_cols], axis = 0)\n",
    "            \n",
    "    return x_u, x_norm\n",
    "\n",
    "def treat_binary_categorical(X, categorical_cols):\n",
    "    for col in categorical_cols:\n",
    "        X[col] = X[col].apply(lambda x : 1 if x == 'yes' else 0)\n",
    "    return X\n",
    "\n",
    "def treat_numeric(X, numeric_cols, x_u, x_norm):\n",
    "    n_samples, n_features = X[numeric_cols].shape\n",
    "    X_u = np.repeat(x_u,n_samples).reshape(n_features,n_samples).T\n",
    "    X_norm = np.repeat(x_norm,n_samples).reshape(n_features,n_samples).T\n",
    "    X[numeric_cols] = (X[numeric_cols]-X_u)/X_norm\n",
    "    return X\n",
    "\n",
    "def treat_multi_categorical(X, categorical_cols):\n",
    "    X = pd.get_dummies(X, \n",
    "                columns = categorical_cols ,\n",
    "                drop_first = True)\n",
    "    return X\n",
    "  \n",
    "def impute_w_mean(X, col, val, median = None):\n",
    "    if median == None:\n",
    "        median  = np.median(X[col][X[col] != val])\n",
    "    X[col] = [median if x == val else x for x in X[col]]\n",
    "    return X, median\n",
    "\n",
    "def preprocessing(X, x_u = np.array([None]), x_norm = np.array([None]), m=None):\n",
    "    numeric_cols = ['age', 'balance', 'duration', 'pdays', 'previous', 'day', 'campaign']\n",
    "    X, pdays_median = impute_w_mean(X, 'pdays', -1, m)\n",
    "    \n",
    "    if x_u.all() == None:\n",
    "        x_u, x_norm = calculate_stats(X, numeric_cols)\n",
    "    \n",
    "    X = treat_numeric(X, numeric_cols, x_u, x_norm)\n",
    "    \n",
    "    categorical_cols = ['default','housing','loan','y']\n",
    "    X = treat_binary_categorical(X, categorical_cols)\n",
    "    \n",
    "    other_categorical_cols = ['job', 'marital', 'education', \n",
    "                    'contact', 'month', 'poutcome']\n",
    "    X = treat_multi_categorical(X, other_categorical_cols)\n",
    "    \n",
    "    x , y = X.drop('y', axis=1), X['y']\n",
    "    return x, y, x_u, x_norm, pdays_median\n",
    "\n",
    "def get_predictions(y_prob, threshold = 0.5):\n",
    "    y_pred = [1 if x >= threshold else 0 for x in y_prob[:, 1]]\n",
    "    return y_pred"
   ]
  },
  {
   "cell_type": "code",
   "execution_count": 204,
   "metadata": {
    "colab": {},
    "colab_type": "code",
    "id": "-kxn7ZjCJpJ2"
   },
   "outputs": [
    {
     "name": "stdout",
     "output_type": "stream",
     "text": [
      "(6769, 17) (6769, 42) (6769,)\n",
      "(1693, 17) (1693, 42) (1693,)\n",
      "(9043, 17) (9043, 42) (9043,)\n",
      "(28934, 17) (28934, 42) (28934,)\n",
      "(7234, 17) (7234, 42) (7234,)\n",
      "(9043, 17) (9043, 42) (9043,)\n"
     ]
    }
   ],
   "source": [
    "# PROBLEM 1, TASK 1 CODE GOES HERE\n",
    "train_1 = pd.read_csv('./train_1.csv')\n",
    "valid_1 = pd.read_csv('./valid_1.csv')\n",
    "train_2 = pd.read_csv('./train_2.csv')\n",
    "valid_2 = pd.read_csv('./valid_2.csv')\n",
    "test = pd.read_csv('./test.csv')\n",
    "# print(train_1.columns)\n",
    "\n",
    "train_1_x , train_1_y, train_1_x_u, train_1_x_norm, train_1_pdays_median = preprocessing(train_1)\n",
    "valid_1_x, valid_1_y, _, _, _ = preprocessing(valid_1, train_1_x_u, train_1_x_norm, train_1_pdays_median)\n",
    "test_1_x, test_1_y, _, _, _ = preprocessing(test, train_1_x_u, train_1_x_norm, train_1_pdays_median)\n",
    "\n",
    "train_2_x , train_2_y, train_2_x_u, train_2_x_norm, train_2_pdays_median = preprocessing(train_2)\n",
    "valid_2_x, valid_2_y, _, _, _ = preprocessing(valid_2, train_2_x_u, train_2_x_norm, train_2_pdays_median)\n",
    "test_2_x, test_2_y, _, _, _ = preprocessing(test, train_2_x_u, train_2_x_norm, train_2_pdays_median)\n",
    "\n",
    "\n",
    "print(train_1.shape, train_1_x.shape, train_1_y.shape)\n",
    "print(valid_1.shape, valid_1_x.shape, valid_1_y.shape)\n",
    "print(test.shape, test_1_x.shape, test_1_y.shape)\n",
    "print(train_2.shape, train_2_x.shape, train_2_y.shape)\n",
    "print(valid_2.shape, valid_2_x.shape, valid_2_y.shape)\n",
    "print(test.shape, test_2_x.shape, test_2_y.shape)"
   ]
  },
  {
   "cell_type": "markdown",
   "metadata": {
    "colab_type": "text",
    "id": "5EaChdKLJjio"
   },
   "source": [
    "### Task 2 (Model $\\mathcal{A}$) (10 points)\n",
    "\n",
    "Train a logistic regression model with $L_2$ regularization on `train_1.csv` after applying the necessary preprocessing steps of Task 1. Use the validation set `valid_1.csv` to choose the best regularization coefficient $\\lambda$. Plot a curve with regularization coefficient in the X axis and the validation accuracy on the Y axis."
   ]
  },
  {
   "cell_type": "code",
   "execution_count": 205,
   "metadata": {
    "colab": {},
    "colab_type": "code",
    "id": "aQGJ10L-KhZh",
    "scrolled": true
   },
   "outputs": [
    {
     "name": "stdout",
     "output_type": "stream",
     "text": [
      "Distribution of dependant var\n",
      "1    3385\n",
      "0    3384\n",
      "Name: y, dtype: int64\n",
      "Train Accuracy:  0.797459004284237\n",
      "Validation Accuracy:  0.7838157117542823\n",
      "Test Accuracy:  0.8347893398208559\n"
     ]
    },
    {
     "data": {
      "image/png": "[encoded data removed]",
      "text/plain": [
       "<Figure size 432x288 with 1 Axes>"
      ]
     },
     "metadata": {
      "needs_background": "light"
     },
     "output_type": "display_data"
    }
   ],
   "source": [
    "# PROBLEM 1, TASK 2 CODE GOES HERE\n",
    "\n",
    "## Look at distribution of 1's and 0's for imbalance ##\n",
    "print('Distribution of dependant var')\n",
    "print(train_1_y.value_counts())\n",
    "\n",
    "## Hyperparameter Tuning ##\n",
    "accuracy = []\n",
    "reg_param = []\n",
    "for c in range(1, 51, 1):\n",
    "    reg_param.append(c/10)\n",
    "    lr = LogisticRegression(penalty = 'l2', \n",
    "                            solver = 'lbfgs',\n",
    "                            C = 10/c, \n",
    "                            max_iter = 300)\n",
    "    lr.fit(train_1_x, train_1_y)\n",
    "    valid_1_prob_predictions = lr.predict_proba(valid_1_x)\n",
    "    y_pred = get_predictions(valid_1_prob_predictions)\n",
    "    accuracy.append(accuracy_score(valid_1_y, y_pred))\n",
    "\n",
    "\n",
    "plt.plot(reg_param, accuracy)\n",
    "\n",
    "plt.ylabel('Validation Accuracy')\n",
    "plt.xlabel('Regularization Parameter (lambda)')\n",
    "\n",
    "## Train/Validation/Test Accuracy\n",
    "\n",
    "best_lambda = reg_param[np.argmax(accuracy)]\n",
    "lr = LogisticRegression(penalty = 'l2', \n",
    "                            solver = 'lbfgs',\n",
    "                            C = 1/best_lambda, \n",
    "                            max_iter = 300)\n",
    "lr.fit(train_1_x, train_1_y)\n",
    "\n",
    "train_1_prob_predictions = lr.predict_proba(train_1_x)\n",
    "valid_1_prob_predictions = lr.predict_proba(valid_1_x)\n",
    "test_1_prob_predictions = lr.predict_proba(test_1_x)\n",
    "\n",
    "print(\"Train Accuracy: \",accuracy_score(train_1_y, get_predictions(train_1_prob_predictions)))\n",
    "print(\"Validation Accuracy: \",accuracy_score(valid_1_y, get_predictions(valid_1_prob_predictions)))\n",
    "print(\"Test Accuracy: \",accuracy_score(test_1_y, get_predictions(test_1_prob_predictions)))\n",
    "\n",
    "\n",
    "# plt.show()\n",
    "# df.plot()"
   ]
  },
  {
   "cell_type": "markdown",
   "metadata": {
    "colab_type": "text",
    "id": "c0UEYv92KnvQ"
   },
   "source": [
    "### Task 3 (Model $\\mathcal{B}$) (5 points)\n",
    "Train a logistic regression model with $L_2$ regularization on `train_2.csv` after applying the necessary preprocessing steps of Task 1. Use the validation set `valid_2.csv` to choose the best regularization coefficient $\\lambda$. Plot a curve with regularization coefficient in the X axis and the validation accuracy on the Y axis."
   ]
  },
  {
   "cell_type": "code",
   "execution_count": 206,
   "metadata": {
    "colab": {},
    "colab_type": "code",
    "id": "izeiBcCTLcM4"
   },
   "outputs": [
    {
     "name": "stdout",
     "output_type": "stream",
     "text": [
      "Distribution of dependant var\n",
      "0    25549\n",
      "1     3385\n",
      "Name: y, dtype: int64\n",
      "Train Accuracy:  0.895866454689984\n",
      "Validation Accuracy:  0.8959082112247719\n",
      "Test Accuracy:  0.9786575251575804\n"
     ]
    },
    {
     "data": {
      "image/png": "[encoded data removed]",
      "text/plain": [
       "<Figure size 432x288 with 1 Axes>"
      ]
     },
     "metadata": {
      "needs_background": "light"
     },
     "output_type": "display_data"
    }
   ],
   "source": [
    "# PROBLEM 1, TASK 3 CODE GOES HERE\n",
    "\n",
    "## Look at distribution of 1's and 0's for imbalance ##\n",
    "print('Distribution of dependant var')\n",
    "print(train_2_y.value_counts())\n",
    "\n",
    "## Hyperparameter Tuning ##\n",
    "accuracy = []\n",
    "reg_param = []\n",
    "for c in range(1, 51, 1):\n",
    "    reg_param.append(c/10)\n",
    "    lr = LogisticRegression(penalty = 'l2', \n",
    "                            solver = 'lbfgs',\n",
    "                            C = 10/c, \n",
    "                            max_iter = 300)\n",
    "    lr.fit(train_2_x, train_2_y)\n",
    "    valid_2_prob_predictions = lr.predict_proba(valid_2_x)\n",
    "    y_pred = get_predictions(valid_2_prob_predictions)\n",
    "    accuracy.append(accuracy_score(valid_2_y, y_pred))\n",
    "\n",
    "\n",
    "plt.plot(reg_param, accuracy)\n",
    "\n",
    "plt.ylabel('Validation Accuracy')\n",
    "plt.xlabel('Regularization Parameter (lambda)')\n",
    "\n",
    "## Train/Validation/Test Accuracy\n",
    "\n",
    "best_lambda = reg_param[np.argmax(accuracy)]\n",
    "lr = LogisticRegression(penalty = 'l2', \n",
    "                            solver = 'lbfgs',\n",
    "                            C = 1/best_lambda, \n",
    "                            max_iter = 300)\n",
    "lr.fit(train_2_x, train_2_y)\n",
    "\n",
    "train_2_prob_predictions = lr.predict_proba(train_2_x)\n",
    "valid_2_prob_predictions = lr.predict_proba(valid_2_x)\n",
    "test_2_prob_predictions = lr.predict_proba(test_2_x)\n",
    "\n",
    "print(\"Train Accuracy: \",accuracy_score(train_2_y, get_predictions(train_2_prob_predictions)))\n",
    "print(\"Validation Accuracy: \",accuracy_score(valid_2_y, get_predictions(valid_2_prob_predictions)))\n",
    "print(\"Test Accuracy: \",accuracy_score(test_2_y, get_predictions(test_2_prob_predictions)))\n",
    "\n"
   ]
  },
  {
   "cell_type": "markdown",
   "metadata": {
    "colab_type": "text",
    "id": "8KzsVhHPLd3P"
   },
   "source": [
    "### Task 4 (Model $\\mathcal{C}$) (10 points)\n",
    "\n",
    "As you have seen in class, due to the specific (and smart) choice of the loss function, a logistic regression classifier happens to predict the posterioir probability $p(y|\\mathbf{x})$ for any given sample. It then classifies the samples with $p(y|\\mathbf{x}) > 0.5$ as belonging to class $1$ and the rest as belonging to class $0$. Instead, for a fixed threshold of $0.5$, let us consider a dynamic threshold of $\\theta$ which can be chosen after a model has been trained.\n",
    "\n",
    "$$\n",
    "\\ y=\n",
    "\\begin{cases}\n",
    "1 \\text{ if } p(y|\\mathbf{x}) \\geq \\theta \\\\\n",
    "\\\\\n",
    "0 \\text{ if } p(y|\\mathbf{x}) < \\theta \\\\\n",
    "\\end{cases}\n",
    "$$\n",
    "\n",
    "for $0 \\leq \\theta \\leq 1$.\n",
    "\n",
    "Train a logistic regression model with $L_2$ regularization on `train_2.csv` after applying the necessary preprocessing steps of Task 1. Use the validation set `valid_2.csv` to choose the best combination of regularization coefficient $\\lambda$ and the threshold $\\theta$. The best coefficients has to be selected by you after trying out at least five, non-consecutive values. Visualize all these runs.\n",
    "\n",
    "**Hint**: Look at the documentation of Logistic Regression in sci-kit learn to come up with a plan to implement this."
   ]
  },
  {
   "cell_type": "code",
   "execution_count": 207,
   "metadata": {
    "colab": {},
    "colab_type": "code",
    "id": "zJRVTjjrSTRm"
   },
   "outputs": [
    {
     "data": {
      "text/plain": [
       "Text(0.5, 0, 'Regularization Parameter (lambda)')"
      ]
     },
     "execution_count": 207,
     "metadata": {},
     "output_type": "execute_result"
    },
    {
     "data": {
      "image/png": "[encoded data removed]",
      "text/plain": [
       "<Figure size 432x288 with 1 Axes>"
      ]
     },
     "metadata": {
      "needs_background": "light"
     },
     "output_type": "display_data"
    }
   ],
   "source": [
    "# PROBLEM 1, TASK 4 CODE GOES HERE\n",
    "\n",
    "def get_accuracies(th):\n",
    "    accuracy = {}\n",
    "    for c in range(1, 51, 1):\n",
    "        reg_param = c/10\n",
    "        lr = LogisticRegression(penalty = 'l2', \n",
    "                                solver = 'lbfgs',\n",
    "                                C = 10/c, \n",
    "                                max_iter = 300)\n",
    "        lr.fit(train_2_x, train_2_y)\n",
    "        valid_2_prob_predictions = lr.predict_proba(valid_2_x)\n",
    "        y_pred = get_predictions(valid_2_prob_predictions, threshold = th)\n",
    "        \n",
    "        accuracy[reg_param] = accuracy_score(valid_2_y, y_pred)\n",
    "    return accuracy\n",
    "\n",
    "th_1, th_2, th_3, th_4, th_5 = 0.3, 0.4, 0.5, 0.7, 0.8\n",
    "\n",
    "data = {'Threshold = ' + str(th_1): get_accuracies(th_1),\n",
    "        'Threshold = ' + str(th_2): get_accuracies(th_2),\n",
    "        'Threshold = ' + str(th_3): get_accuracies(th_3),\n",
    "        'Threshold = ' + str(th_4): get_accuracies(th_4),  \n",
    "        'Threshold = ' + str(th_5): get_accuracies(th_5)}\n",
    "    \n",
    "    \n",
    "df = pd.DataFrame(data)\n",
    "\n",
    "df.plot(kind='line')\n",
    "\n",
    "plt.ylabel('Validation Accuracy')\n",
    "plt.xlabel('Regularization Parameter (lambda)')\n",
    "\n"
   ]
  },
  {
   "cell_type": "code",
   "execution_count": 208,
   "metadata": {
    "scrolled": true
   },
   "outputs": [
    {
     "data": {
      "text/html": [
       "<div>\n",
       "<style scoped>\n",
       "    .dataframe tbody tr th:only-of-type {\n",
       "        vertical-align: middle;\n",
       "    }\n",
       "\n",
       "    .dataframe tbody tr th {\n",
       "        vertical-align: top;\n",
       "    }\n",
       "\n",
       "    .dataframe thead th {\n",
       "        text-align: right;\n",
       "    }\n",
       "</style>\n",
       "<table border=\"1\" class=\"dataframe\">\n",
       "  <thead>\n",
       "    <tr style=\"text-align: right;\">\n",
       "      <th></th>\n",
       "      <th>Threshold = 0.3</th>\n",
       "      <th>Threshold = 0.4</th>\n",
       "      <th>Threshold = 0.5</th>\n",
       "      <th>Threshold = 0.7</th>\n",
       "      <th>Threshold = 0.8</th>\n",
       "    </tr>\n",
       "  </thead>\n",
       "  <tbody>\n",
       "    <tr>\n",
       "      <th>0.1</th>\n",
       "      <td>0.896599</td>\n",
       "      <td>0.897705</td>\n",
       "      <td>0.895908</td>\n",
       "      <td>0.890379</td>\n",
       "      <td>0.887891</td>\n",
       "    </tr>\n",
       "    <tr>\n",
       "      <th>0.2</th>\n",
       "      <td>0.893143</td>\n",
       "      <td>0.895494</td>\n",
       "      <td>0.895632</td>\n",
       "      <td>0.890102</td>\n",
       "      <td>0.887338</td>\n",
       "    </tr>\n",
       "    <tr>\n",
       "      <th>0.3</th>\n",
       "      <td>0.892038</td>\n",
       "      <td>0.895217</td>\n",
       "      <td>0.895355</td>\n",
       "      <td>0.889688</td>\n",
       "      <td>0.886923</td>\n",
       "    </tr>\n",
       "    <tr>\n",
       "      <th>0.4</th>\n",
       "      <td>0.891346</td>\n",
       "      <td>0.894388</td>\n",
       "      <td>0.894941</td>\n",
       "      <td>0.889688</td>\n",
       "      <td>0.886646</td>\n",
       "    </tr>\n",
       "    <tr>\n",
       "      <th>0.5</th>\n",
       "      <td>0.891208</td>\n",
       "      <td>0.894388</td>\n",
       "      <td>0.894388</td>\n",
       "      <td>0.889135</td>\n",
       "      <td>0.886646</td>\n",
       "    </tr>\n",
       "    <tr>\n",
       "      <th>0.6</th>\n",
       "      <td>0.891070</td>\n",
       "      <td>0.894249</td>\n",
       "      <td>0.894526</td>\n",
       "      <td>0.888996</td>\n",
       "      <td>0.886785</td>\n",
       "    </tr>\n",
       "    <tr>\n",
       "      <th>0.7</th>\n",
       "      <td>0.890793</td>\n",
       "      <td>0.894388</td>\n",
       "      <td>0.894249</td>\n",
       "      <td>0.888996</td>\n",
       "      <td>0.886785</td>\n",
       "    </tr>\n",
       "    <tr>\n",
       "      <th>0.8</th>\n",
       "      <td>0.890655</td>\n",
       "      <td>0.894388</td>\n",
       "      <td>0.894249</td>\n",
       "      <td>0.888858</td>\n",
       "      <td>0.886923</td>\n",
       "    </tr>\n",
       "    <tr>\n",
       "      <th>0.9</th>\n",
       "      <td>0.890102</td>\n",
       "      <td>0.894249</td>\n",
       "      <td>0.894249</td>\n",
       "      <td>0.888858</td>\n",
       "      <td>0.886923</td>\n",
       "    </tr>\n",
       "    <tr>\n",
       "      <th>1.0</th>\n",
       "      <td>0.890102</td>\n",
       "      <td>0.893973</td>\n",
       "      <td>0.894111</td>\n",
       "      <td>0.888720</td>\n",
       "      <td>0.886923</td>\n",
       "    </tr>\n",
       "    <tr>\n",
       "      <th>1.1</th>\n",
       "      <td>0.889964</td>\n",
       "      <td>0.893835</td>\n",
       "      <td>0.894111</td>\n",
       "      <td>0.888720</td>\n",
       "      <td>0.886785</td>\n",
       "    </tr>\n",
       "    <tr>\n",
       "      <th>1.2</th>\n",
       "      <td>0.889964</td>\n",
       "      <td>0.893973</td>\n",
       "      <td>0.893973</td>\n",
       "      <td>0.888582</td>\n",
       "      <td>0.886785</td>\n",
       "    </tr>\n",
       "    <tr>\n",
       "      <th>1.3</th>\n",
       "      <td>0.889964</td>\n",
       "      <td>0.893973</td>\n",
       "      <td>0.893973</td>\n",
       "      <td>0.888582</td>\n",
       "      <td>0.886785</td>\n",
       "    </tr>\n",
       "    <tr>\n",
       "      <th>1.4</th>\n",
       "      <td>0.889964</td>\n",
       "      <td>0.893973</td>\n",
       "      <td>0.893973</td>\n",
       "      <td>0.888582</td>\n",
       "      <td>0.886785</td>\n",
       "    </tr>\n",
       "    <tr>\n",
       "      <th>1.5</th>\n",
       "      <td>0.889964</td>\n",
       "      <td>0.893973</td>\n",
       "      <td>0.893973</td>\n",
       "      <td>0.888582</td>\n",
       "      <td>0.886785</td>\n",
       "    </tr>\n",
       "    <tr>\n",
       "      <th>1.6</th>\n",
       "      <td>0.889964</td>\n",
       "      <td>0.893973</td>\n",
       "      <td>0.893973</td>\n",
       "      <td>0.888582</td>\n",
       "      <td>0.886785</td>\n",
       "    </tr>\n",
       "    <tr>\n",
       "      <th>1.7</th>\n",
       "      <td>0.889688</td>\n",
       "      <td>0.893973</td>\n",
       "      <td>0.893973</td>\n",
       "      <td>0.888582</td>\n",
       "      <td>0.886785</td>\n",
       "    </tr>\n",
       "    <tr>\n",
       "      <th>1.8</th>\n",
       "      <td>0.889688</td>\n",
       "      <td>0.893835</td>\n",
       "      <td>0.893973</td>\n",
       "      <td>0.888582</td>\n",
       "      <td>0.886785</td>\n",
       "    </tr>\n",
       "    <tr>\n",
       "      <th>1.9</th>\n",
       "      <td>0.889964</td>\n",
       "      <td>0.893835</td>\n",
       "      <td>0.893973</td>\n",
       "      <td>0.888582</td>\n",
       "      <td>0.886785</td>\n",
       "    </tr>\n",
       "    <tr>\n",
       "      <th>2.0</th>\n",
       "      <td>0.889826</td>\n",
       "      <td>0.893696</td>\n",
       "      <td>0.893835</td>\n",
       "      <td>0.888582</td>\n",
       "      <td>0.886785</td>\n",
       "    </tr>\n",
       "    <tr>\n",
       "      <th>2.1</th>\n",
       "      <td>0.889826</td>\n",
       "      <td>0.893835</td>\n",
       "      <td>0.893696</td>\n",
       "      <td>0.888443</td>\n",
       "      <td>0.886785</td>\n",
       "    </tr>\n",
       "    <tr>\n",
       "      <th>2.2</th>\n",
       "      <td>0.889688</td>\n",
       "      <td>0.893696</td>\n",
       "      <td>0.893558</td>\n",
       "      <td>0.888443</td>\n",
       "      <td>0.886785</td>\n",
       "    </tr>\n",
       "    <tr>\n",
       "      <th>2.3</th>\n",
       "      <td>0.889688</td>\n",
       "      <td>0.893696</td>\n",
       "      <td>0.893282</td>\n",
       "      <td>0.888443</td>\n",
       "      <td>0.886785</td>\n",
       "    </tr>\n",
       "    <tr>\n",
       "      <th>2.4</th>\n",
       "      <td>0.889688</td>\n",
       "      <td>0.893973</td>\n",
       "      <td>0.893282</td>\n",
       "      <td>0.888443</td>\n",
       "      <td>0.886785</td>\n",
       "    </tr>\n",
       "    <tr>\n",
       "      <th>2.5</th>\n",
       "      <td>0.889688</td>\n",
       "      <td>0.893696</td>\n",
       "      <td>0.893420</td>\n",
       "      <td>0.888443</td>\n",
       "      <td>0.886785</td>\n",
       "    </tr>\n",
       "    <tr>\n",
       "      <th>2.6</th>\n",
       "      <td>0.889688</td>\n",
       "      <td>0.894111</td>\n",
       "      <td>0.893420</td>\n",
       "      <td>0.888443</td>\n",
       "      <td>0.886785</td>\n",
       "    </tr>\n",
       "    <tr>\n",
       "      <th>2.7</th>\n",
       "      <td>0.889688</td>\n",
       "      <td>0.894111</td>\n",
       "      <td>0.893420</td>\n",
       "      <td>0.888443</td>\n",
       "      <td>0.886785</td>\n",
       "    </tr>\n",
       "    <tr>\n",
       "      <th>2.8</th>\n",
       "      <td>0.889688</td>\n",
       "      <td>0.894111</td>\n",
       "      <td>0.893420</td>\n",
       "      <td>0.888443</td>\n",
       "      <td>0.886785</td>\n",
       "    </tr>\n",
       "    <tr>\n",
       "      <th>2.9</th>\n",
       "      <td>0.889688</td>\n",
       "      <td>0.894111</td>\n",
       "      <td>0.893420</td>\n",
       "      <td>0.888443</td>\n",
       "      <td>0.886785</td>\n",
       "    </tr>\n",
       "    <tr>\n",
       "      <th>3.0</th>\n",
       "      <td>0.889688</td>\n",
       "      <td>0.894111</td>\n",
       "      <td>0.893420</td>\n",
       "      <td>0.888443</td>\n",
       "      <td>0.886785</td>\n",
       "    </tr>\n",
       "    <tr>\n",
       "      <th>3.1</th>\n",
       "      <td>0.889688</td>\n",
       "      <td>0.894111</td>\n",
       "      <td>0.893558</td>\n",
       "      <td>0.888443</td>\n",
       "      <td>0.886646</td>\n",
       "    </tr>\n",
       "    <tr>\n",
       "      <th>3.2</th>\n",
       "      <td>0.889688</td>\n",
       "      <td>0.893973</td>\n",
       "      <td>0.893558</td>\n",
       "      <td>0.888443</td>\n",
       "      <td>0.886646</td>\n",
       "    </tr>\n",
       "    <tr>\n",
       "      <th>3.3</th>\n",
       "      <td>0.889688</td>\n",
       "      <td>0.893973</td>\n",
       "      <td>0.893420</td>\n",
       "      <td>0.888443</td>\n",
       "      <td>0.886646</td>\n",
       "    </tr>\n",
       "    <tr>\n",
       "      <th>3.4</th>\n",
       "      <td>0.889688</td>\n",
       "      <td>0.893973</td>\n",
       "      <td>0.893420</td>\n",
       "      <td>0.888443</td>\n",
       "      <td>0.886646</td>\n",
       "    </tr>\n",
       "    <tr>\n",
       "      <th>3.5</th>\n",
       "      <td>0.889826</td>\n",
       "      <td>0.893973</td>\n",
       "      <td>0.893420</td>\n",
       "      <td>0.888443</td>\n",
       "      <td>0.886646</td>\n",
       "    </tr>\n",
       "    <tr>\n",
       "      <th>3.6</th>\n",
       "      <td>0.889826</td>\n",
       "      <td>0.893973</td>\n",
       "      <td>0.893420</td>\n",
       "      <td>0.888443</td>\n",
       "      <td>0.886646</td>\n",
       "    </tr>\n",
       "    <tr>\n",
       "      <th>3.7</th>\n",
       "      <td>0.889826</td>\n",
       "      <td>0.893973</td>\n",
       "      <td>0.893420</td>\n",
       "      <td>0.888443</td>\n",
       "      <td>0.886646</td>\n",
       "    </tr>\n",
       "    <tr>\n",
       "      <th>3.8</th>\n",
       "      <td>0.889826</td>\n",
       "      <td>0.893973</td>\n",
       "      <td>0.893282</td>\n",
       "      <td>0.888443</td>\n",
       "      <td>0.886646</td>\n",
       "    </tr>\n",
       "    <tr>\n",
       "      <th>3.9</th>\n",
       "      <td>0.889826</td>\n",
       "      <td>0.893973</td>\n",
       "      <td>0.893282</td>\n",
       "      <td>0.888305</td>\n",
       "      <td>0.886646</td>\n",
       "    </tr>\n",
       "    <tr>\n",
       "      <th>4.0</th>\n",
       "      <td>0.889826</td>\n",
       "      <td>0.893835</td>\n",
       "      <td>0.893420</td>\n",
       "      <td>0.888305</td>\n",
       "      <td>0.886646</td>\n",
       "    </tr>\n",
       "    <tr>\n",
       "      <th>4.1</th>\n",
       "      <td>0.889826</td>\n",
       "      <td>0.893835</td>\n",
       "      <td>0.893420</td>\n",
       "      <td>0.888305</td>\n",
       "      <td>0.886646</td>\n",
       "    </tr>\n",
       "    <tr>\n",
       "      <th>4.2</th>\n",
       "      <td>0.889826</td>\n",
       "      <td>0.893835</td>\n",
       "      <td>0.893558</td>\n",
       "      <td>0.888305</td>\n",
       "      <td>0.886646</td>\n",
       "    </tr>\n",
       "    <tr>\n",
       "      <th>4.3</th>\n",
       "      <td>0.889826</td>\n",
       "      <td>0.893835</td>\n",
       "      <td>0.893558</td>\n",
       "      <td>0.888305</td>\n",
       "      <td>0.886646</td>\n",
       "    </tr>\n",
       "    <tr>\n",
       "      <th>4.4</th>\n",
       "      <td>0.889688</td>\n",
       "      <td>0.893835</td>\n",
       "      <td>0.893558</td>\n",
       "      <td>0.888305</td>\n",
       "      <td>0.886646</td>\n",
       "    </tr>\n",
       "    <tr>\n",
       "      <th>4.5</th>\n",
       "      <td>0.889688</td>\n",
       "      <td>0.893696</td>\n",
       "      <td>0.893558</td>\n",
       "      <td>0.888305</td>\n",
       "      <td>0.886646</td>\n",
       "    </tr>\n",
       "    <tr>\n",
       "      <th>4.6</th>\n",
       "      <td>0.889688</td>\n",
       "      <td>0.893696</td>\n",
       "      <td>0.893696</td>\n",
       "      <td>0.888305</td>\n",
       "      <td>0.886646</td>\n",
       "    </tr>\n",
       "    <tr>\n",
       "      <th>4.7</th>\n",
       "      <td>0.889688</td>\n",
       "      <td>0.893558</td>\n",
       "      <td>0.893696</td>\n",
       "      <td>0.888305</td>\n",
       "      <td>0.886646</td>\n",
       "    </tr>\n",
       "    <tr>\n",
       "      <th>4.8</th>\n",
       "      <td>0.889688</td>\n",
       "      <td>0.893558</td>\n",
       "      <td>0.893696</td>\n",
       "      <td>0.888305</td>\n",
       "      <td>0.886646</td>\n",
       "    </tr>\n",
       "    <tr>\n",
       "      <th>4.9</th>\n",
       "      <td>0.889688</td>\n",
       "      <td>0.893558</td>\n",
       "      <td>0.893835</td>\n",
       "      <td>0.888305</td>\n",
       "      <td>0.886646</td>\n",
       "    </tr>\n",
       "    <tr>\n",
       "      <th>5.0</th>\n",
       "      <td>0.889688</td>\n",
       "      <td>0.893420</td>\n",
       "      <td>0.893835</td>\n",
       "      <td>0.888305</td>\n",
       "      <td>0.886646</td>\n",
       "    </tr>\n",
       "  </tbody>\n",
       "</table>\n",
       "</div>"
      ],
      "text/plain": [
       "     Threshold = 0.3  Threshold = 0.4  Threshold = 0.5  Threshold = 0.7  \\\n",
       "0.1         0.896599         0.897705         0.895908         0.890379   \n",
       "0.2         0.893143         0.895494         0.895632         0.890102   \n",
       "0.3         0.892038         0.895217         0.895355         0.889688   \n",
       "0.4         0.891346         0.894388         0.894941         0.889688   \n",
       "0.5         0.891208         0.894388         0.894388         0.889135   \n",
       "0.6         0.891070         0.894249         0.894526         0.888996   \n",
       "0.7         0.890793         0.894388         0.894249         0.888996   \n",
       "0.8         0.890655         0.894388         0.894249         0.888858   \n",
       "0.9         0.890102         0.894249         0.894249         0.888858   \n",
       "1.0         0.890102         0.893973         0.894111         0.888720   \n",
       "1.1         0.889964         0.893835         0.894111         0.888720   \n",
       "1.2         0.889964         0.893973         0.893973         0.888582   \n",
       "1.3         0.889964         0.893973         0.893973         0.888582   \n",
       "1.4         0.889964         0.893973         0.893973         0.888582   \n",
       "1.5         0.889964         0.893973         0.893973         0.888582   \n",
       "1.6         0.889964         0.893973         0.893973         0.888582   \n",
       "1.7         0.889688         0.893973         0.893973         0.888582   \n",
       "1.8         0.889688         0.893835         0.893973         0.888582   \n",
       "1.9         0.889964         0.893835         0.893973         0.888582   \n",
       "2.0         0.889826         0.893696         0.893835         0.888582   \n",
       "2.1         0.889826         0.893835         0.893696         0.888443   \n",
       "2.2         0.889688         0.893696         0.893558         0.888443   \n",
       "2.3         0.889688         0.893696         0.893282         0.888443   \n",
       "2.4         0.889688         0.893973         0.893282         0.888443   \n",
       "2.5         0.889688         0.893696         0.893420         0.888443   \n",
       "2.6         0.889688         0.894111         0.893420         0.888443   \n",
       "2.7         0.889688         0.894111         0.893420         0.888443   \n",
       "2.8         0.889688         0.894111         0.893420         0.888443   \n",
       "2.9         0.889688         0.894111         0.893420         0.888443   \n",
       "3.0         0.889688         0.894111         0.893420         0.888443   \n",
       "3.1         0.889688         0.894111         0.893558         0.888443   \n",
       "3.2         0.889688         0.893973         0.893558         0.888443   \n",
       "3.3         0.889688         0.893973         0.893420         0.888443   \n",
       "3.4         0.889688         0.893973         0.893420         0.888443   \n",
       "3.5         0.889826         0.893973         0.893420         0.888443   \n",
       "3.6         0.889826         0.893973         0.893420         0.888443   \n",
       "3.7         0.889826         0.893973         0.893420         0.888443   \n",
       "3.8         0.889826         0.893973         0.893282         0.888443   \n",
       "3.9         0.889826         0.893973         0.893282         0.888305   \n",
       "4.0         0.889826         0.893835         0.893420         0.888305   \n",
       "4.1         0.889826         0.893835         0.893420         0.888305   \n",
       "4.2         0.889826         0.893835         0.893558         0.888305   \n",
       "4.3         0.889826         0.893835         0.893558         0.888305   \n",
       "4.4         0.889688         0.893835         0.893558         0.888305   \n",
       "4.5         0.889688         0.893696         0.893558         0.888305   \n",
       "4.6         0.889688         0.893696         0.893696         0.888305   \n",
       "4.7         0.889688         0.893558         0.893696         0.888305   \n",
       "4.8         0.889688         0.893558         0.893696         0.888305   \n",
       "4.9         0.889688         0.893558         0.893835         0.888305   \n",
       "5.0         0.889688         0.893420         0.893835         0.888305   \n",
       "\n",
       "     Threshold = 0.8  \n",
       "0.1         0.887891  \n",
       "0.2         0.887338  \n",
       "0.3         0.886923  \n",
       "0.4         0.886646  \n",
       "0.5         0.886646  \n",
       "0.6         0.886785  \n",
       "0.7         0.886785  \n",
       "0.8         0.886923  \n",
       "0.9         0.886923  \n",
       "1.0         0.886923  \n",
       "1.1         0.886785  \n",
       "1.2         0.886785  \n",
       "1.3         0.886785  \n",
       "1.4         0.886785  \n",
       "1.5         0.886785  \n",
       "1.6         0.886785  \n",
       "1.7         0.886785  \n",
       "1.8         0.886785  \n",
       "1.9         0.886785  \n",
       "2.0         0.886785  \n",
       "2.1         0.886785  \n",
       "2.2         0.886785  \n",
       "2.3         0.886785  \n",
       "2.4         0.886785  \n",
       "2.5         0.886785  \n",
       "2.6         0.886785  \n",
       "2.7         0.886785  \n",
       "2.8         0.886785  \n",
       "2.9         0.886785  \n",
       "3.0         0.886785  \n",
       "3.1         0.886646  \n",
       "3.2         0.886646  \n",
       "3.3         0.886646  \n",
       "3.4         0.886646  \n",
       "3.5         0.886646  \n",
       "3.6         0.886646  \n",
       "3.7         0.886646  \n",
       "3.8         0.886646  \n",
       "3.9         0.886646  \n",
       "4.0         0.886646  \n",
       "4.1         0.886646  \n",
       "4.2         0.886646  \n",
       "4.3         0.886646  \n",
       "4.4         0.886646  \n",
       "4.5         0.886646  \n",
       "4.6         0.886646  \n",
       "4.7         0.886646  \n",
       "4.8         0.886646  \n",
       "4.9         0.886646  \n",
       "5.0         0.886646  "
      ]
     },
     "execution_count": 208,
     "metadata": {},
     "output_type": "execute_result"
    }
   ],
   "source": [
    "# Visually inspect the validation accuracy for different combo \n",
    "# of threshold and lambda to select the best hyperparameters\n",
    "df"
   ]
  },
  {
   "cell_type": "code",
   "execution_count": 209,
   "metadata": {},
   "outputs": [
    {
     "name": "stdout",
     "output_type": "stream",
     "text": [
      "Train Accuracy:  0.8957973318587129\n",
      "Validation Accuracy:  0.8977052806192978\n",
      "Test Accuracy:  0.9635076855025987\n"
     ]
    }
   ],
   "source": [
    "## Train/Validation/Test Accuracy\n",
    "\n",
    "best_lambda = 0.1\n",
    "th = 0.4\n",
    "lr = LogisticRegression(penalty = 'l2', \n",
    "                            solver = 'lbfgs',\n",
    "                            C = 1/best_lambda, \n",
    "                            max_iter = 300)\n",
    "lr.fit(train_2_x, train_2_y)\n",
    "\n",
    "train_2_prob_predictions = lr.predict_proba(train_2_x)\n",
    "valid_2_prob_predictions = lr.predict_proba(valid_2_x)\n",
    "test_2_prob_predictions = lr.predict_proba(test_2_x)\n",
    "\n",
    "print(\"Train Accuracy: \",accuracy_score(train_2_y, get_predictions(train_2_prob_predictions, threshold = th)))\n",
    "print(\"Validation Accuracy: \",accuracy_score(valid_2_y, get_predictions(valid_2_prob_predictions, threshold = th)))\n",
    "print(\"Test Accuracy: \",accuracy_score(test_2_y, get_predictions(test_2_prob_predictions, threshold = th)))\n",
    "\n"
   ]
  },
  {
   "cell_type": "markdown",
   "metadata": {
    "colab_type": "text",
    "id": "cTa2tMCPQmCV"
   },
   "source": [
    "### Task 5 (Report and Conclusion) (10 points)\n",
    "\n",
    "1.  Give a detailed report on the performance (that is, accuracy) of Models $\\mathcal{A}$, $\\mathcal{B}$ and $\\mathcal{C}$ on the respective training sets, the validation sets and finally the test. Explain any intuition you might have on what might be happening in each of the cases. Please avoid writing unnecessary details which are not pertinent.\n",
    "\n",
    "2.  Do you think accuracy, the metric which you have used to find the best hyperparameter in all the above tasks, a good metric in this scenario? Explain your choice.\n",
    "\n",
    "Ans 1.- For Model $\\mathcal{B}$, and $\\mathcal{C}$ since the distribution of 1-0s is highly imbalanced we get higher values of accuracy (for training, validation and test data) wrt Model $\\mathcal{A}$. This is because the Model $\\mathcal{B}$, and $\\mathcal{C}$ are predicting the 0s more accurately than the 1s.\n",
    "\n",
    "Model $\\mathcal{A}$ \\\n",
    "Train Accuracy:  0.797459004284237 \\\n",
    "Validation Accuracy:  0.7838157117542823 \\\n",
    "Test Accuracy:  0.8347893398208559\n",
    "\n",
    "Model $\\mathcal{B}$ \\\n",
    "Train Accuracy:  0.8960392617681621 \\\n",
    "Validation Accuracy:  0.8961846834393143 \\\n",
    "Test Accuracy:  0.9789892734711931\n",
    "\n",
    "Model $\\mathcal{C}$ \\\n",
    "Train Accuracy:  0.89621206884634 \\\n",
    "Validation Accuracy:  0.8981199889411114 \\\n",
    "Test Accuracy:  0.9652770098418666\n",
    "\n",
    "Ans 2.- For Model $\\mathcal{A}$, since set 1 has equal distribution of the target variable we can rely on accuracy to find the best hyperparameter. But for Model $\\mathcal{B}$ and  $\\mathcal{C}$ since the distribution of target variable is highly imbalanced in set 2, we should look at other metrics like f1-score , weighted-accuracy etc."
   ]
  },
  {
   "cell_type": "markdown",
   "metadata": {
    "colab_type": "text",
    "id": "3b62zDpk-O8v"
   },
   "source": [
    "## Problem 2 (50 points)\n",
    "\n",
    "Consider a regression problem in which the input variable $x$ has only one feature and the target variable $y$ is generated from the input variable $x$ by a polynomial $f(x)$. The function $f$ is such that $$f(x) = \\sum_{i=0}^d w_ix^i$$ Please note that a given polynomial function can be completely described by the vector of coefficients $\\mathbf{w}$.\n",
    "\n",
    "### Task 1 (5 points)\n",
    "\n",
    "Write a function in python which can take the degree of polynomial function as input. The code to generate vector coefficeints $\\mathbf{w}$ using this input is already provided. Plot the resulting function for $x \\in (-low, high)$. The function should be plot "
   ]
  },
  {
   "cell_type": "code",
   "execution_count": 210,
   "metadata": {
    "colab": {},
    "colab_type": "code",
    "id": "ivzCo28P_SFW"
   },
   "outputs": [
    {
     "data": {
      "image/png": "[encoded data removed]",
      "text/plain": [
       "<Figure size 432x288 with 1 Axes>"
      ]
     },
     "metadata": {
      "needs_background": "light"
     },
     "output_type": "display_data"
    },
    {
     "data": {
      "image/png": "[encoded data removed]",
      "text/plain": [
       "<Figure size 432x288 with 1 Axes>"
      ]
     },
     "metadata": {
      "needs_background": "light"
     },
     "output_type": "display_data"
    },
    {
     "data": {
      "image/png": "[encoded data removed]",
      "text/plain": [
       "<Figure size 432x288 with 1 Axes>"
      ]
     },
     "metadata": {
      "needs_background": "light"
     },
     "output_type": "display_data"
    }
   ],
   "source": [
    "import numpy as np\n",
    "from scipy.special import legendre\n",
    "\n",
    "def get_coefficients(degree):\n",
    "    \"\"\"\n",
    "    The coefficients returned are in the order w_0, w_1, ... , w_{degree}\n",
    "    \"\"\"\n",
    "    return legendre(degree).coefficients[::-1]\n",
    "\n",
    "def visualize_function(degree, low, high):\n",
    "    w = get_coefficients(degree)\n",
    "    x = np.linspace(low, high, 500)\n",
    "    X = np.ones((1,len(x)))\n",
    "    for deg in range(1, degree+1 ):\n",
    "        X = np.vstack((X, x**deg))    \n",
    "    y = np.dot(w,X)\n",
    "    plt.plot(X[1][:],y)\n",
    "    plt.show()\n",
    "\n",
    "## TEST CASES (The following lines should plot a function)\n",
    "visualize_function(3, -1, 1)\n",
    "visualize_function(4, -1, 1)\n",
    "visualize_function(6, -1, 1)"
   ]
  },
  {
   "cell_type": "markdown",
   "metadata": {
    "colab_type": "text",
    "id": "z8Mm1YGNBH5u"
   },
   "source": [
    "## Task 2 (5 points)\n",
    "\n",
    "Write a function in python that randomly generates a dataset (training data + test data). The function should take the degree of target polynomial as input along with the number of points that should be generated for both the training and the test sets. The polynomial will be represented by the vector of coefficients. The code to calculate these coefficients has been provided. The function should also add random normal noise to the target -- i.e. the noise should be drawn from a normal distribution with mean $\\mu=0$ and standard deviation = $\\sigma^2$. Thus: \n",
    "$$y=\\sum_{i=0}^d w_ix^i + \\mathcal{N}(0, \\sigma^2)$$\n",
    "\n"
   ]
  },
  {
   "cell_type": "code",
   "execution_count": 211,
   "metadata": {
    "colab": {},
    "colab_type": "code",
    "id": "ZZ1zxLPvCyDt"
   },
   "outputs": [],
   "source": [
    "from sklearn.model_selection import train_test_split\n",
    "def generate_dataset(degree, n_train, n_test, sigma):\n",
    "    \"\"\"\n",
    "    - n_train - Number of training samples\n",
    "    - n_test - Number of test samples\n",
    "    - X_train is an array of size (n_train $\\times$ 1)\n",
    "    - y_train is an array of size (n_train $\\times$ 1)\n",
    "    - X_test is an array of size (n_test $\\times$ 1)\n",
    "    - y_test is an array of size (n_test $\\times$ 1)\n",
    "    \"\"\"\n",
    "    w = get_coefficients(degree)\n",
    "    X = np.ones((1, n_train+n_test))\n",
    "    x = np.linspace(-1,1,n_train+n_test)\n",
    "    for deg in range(1, degree+1 ):\n",
    "        X = np.vstack((X, x**deg))    \n",
    "    noise = np.random.normal(0, sigma, n_train+n_test)\n",
    "    y = np.dot(w,X) + noise\n",
    "    \n",
    "    all_X = X[1][:]\n",
    "    \n",
    "    X_train, X_test, y_train, y_test = train_test_split(all_X, y, \n",
    "                                                        test_size=n_test/(n_train+n_test), \n",
    "                                                        random_state=42)\n",
    "    \n",
    "     \n",
    "    \n",
    "    return X_train.reshape(n_train,1), X_test.reshape(n_test,1), y_train.reshape(n_train,1), y_test.reshape(n_test,1)\n"
   ]
  },
  {
   "cell_type": "markdown",
   "metadata": {
    "colab_type": "text",
    "id": "et9gTUzy_Sn9"
   },
   "source": [
    "### Task 3 (20 points)\n",
    "\n",
    "1.   Use the function written in Task 2 to generate a dataset of degree $10$, with $20$ samples each in the training and test sets. The standard deviation of the noise should be $0.2$.\n",
    "2.   Plot the generated points of the train set over the function. Make use the function you wrote in Task 1 to do so. The resultant plot should not only contain the function in blue color but also the generated points in the train set in red color.\n",
    "3.   Fit two linear regressions models: $\\mathcal{A}$ and $\\mathcal{B}$ on the given training data. Model $\\mathcal{A}$ should be quadratic and Model $\\mathcal{B}$ should be of degree $10$. How would you create such models?\n",
    "4. Calculate the training error and testing error on both these models and report them nicely in a table.\n",
    "5. Explain the results:\n",
    " - Are the results as expected or surprising? Explain your stance.\n",
    " - Give a detailed explanation of why this happens.\n",
    " \n",
    " **Hint**: You are free (in fact encouraged) to design new experiments under the same paradigm to understand what is happening. You can buttress your explanation with any plots which you might generate from such new experiments.\n",
    "\n",
    " \n",
    "Note: _There is no preference over the size of the answer but please note that you shouldn't write anything that is not pertinent. While being terse, your answer should clearly convey the intuition. Also, use logical number code/text cells---i.e. every subquestion in a given task which can be considered a logical unit should be present in one cell. Do not make one cell unnecessarily long by putting multiple answers in it or split a given answer over multiple cells. Use your best judgement."
   ]
  },
  {
   "cell_type": "code",
   "execution_count": 194,
   "metadata": {},
   "outputs": [
    {
     "name": "stdout",
     "output_type": "stream",
     "text": [
      "(20, 1) (20, 1) (20, 1) (20, 1)\n"
     ]
    },
    {
     "data": {
      "image/png": "[encoded data removed]",
      "text/plain": [
       "<Figure size 432x288 with 1 Axes>"
      ]
     },
     "metadata": {
      "needs_background": "light"
     },
     "output_type": "display_data"
    }
   ],
   "source": [
    "x_t, x_te, y_t, y_te = generate_dataset(10, 20, 20, 0.2)\n",
    "print(x_t.shape, x_te.shape, y_t.shape, y_te.shape)\n",
    "plt.scatter(x_te, y_te, c = 'red')\n",
    "visualize_function(10, -1, 1)\n"
   ]
  },
  {
   "cell_type": "code",
   "execution_count": 195,
   "metadata": {},
   "outputs": [
    {
     "name": "stdout",
     "output_type": "stream",
     "text": [
      "**** Model A ****\n",
      "Test error 0.2054837941119146\n",
      "Train error 0.08791431726769194\n",
      "\n",
      "\n",
      "**** Model B ****\n",
      "Test error 0.42345336423558333\n",
      "Train error 0.027476478681310368\n"
     ]
    }
   ],
   "source": [
    "from sklearn.preprocessing import PolynomialFeatures\n",
    "from sklearn.linear_model import LinearRegression\n",
    "from sklearn.metrics import mean_squared_error\n",
    "\n",
    "# Degree 2 #\n",
    "poly = PolynomialFeatures(2)\n",
    "x_t_poly = poly.fit_transform(x_t)\n",
    "x_te_poly = poly.fit_transform(x_te)\n",
    "lr = LinearRegression()\n",
    "model = lr.fit(x_t_poly, y_t)\n",
    "y_te_pred = model.predict(x_te_poly)\n",
    "y_t_pred = model.predict(x_t_poly)\n",
    "print('**** Model A ****')\n",
    "print('Test error', mean_squared_error(y_te, y_te_pred))\n",
    "print('Train error', mean_squared_error(y_t, y_t_pred))\n",
    "\n",
    "print('\\n')\n",
    "# Degree 10 #\n",
    "poly = PolynomialFeatures(10)\n",
    "x_t_poly = poly.fit_transform(x_t)\n",
    "x_te_poly = poly.fit_transform(x_te)\n",
    "lr = LinearRegression()\n",
    "model = lr.fit(x_t_poly, y_t)\n",
    "y_te_pred = model.predict(x_te_poly)\n",
    "y_t_pred = model.predict(x_t_poly)\n",
    "\n",
    "print('**** Model B ****')\n",
    "print('Test error', mean_squared_error(y_te, y_te_pred))\n",
    "print('Train error', mean_squared_error(y_t, y_t_pred))"
   ]
  },
  {
   "cell_type": "markdown",
   "metadata": {},
   "source": [
    "To create the polynomial features we have used the amazing PolynomialFeatures class from the preprocessing module of sklearn.\n",
    "\n",
    "When we try to fit the polynomial of degree 10 (Model $\\mathcal{B}$), we can see that the training error has decreased wrt degree 2 (Model $\\mathcal{A}$), but the test error has increased. This validates the hypothesis that if we increase the degree of the fit function it tries to overfit to the training data and does not generalize well to unseen data"
   ]
  },
  {
   "cell_type": "markdown",
   "metadata": {
    "colab_type": "text",
    "id": "APUqEUWUGmXo"
   },
   "source": [
    "### Task 4 (20 points)\n",
    "\n",
    "1.  Use the function written in Task 2 to generate a dataset of degree 45, with 20 samples each in the training and test sets. There should be no noise in the samples.\n",
    "2.  Repeat steps 2 to 4 from Task 3 for this dataset.\n",
    "3.  This target doesn't have noise like the previous one. Does this make the result surprising? Explain your stance. Also give a detailed explanation of why this happens.\n",
    "\n",
    "**Hint**: You are free (in fact encouraged) to design new experiements under the same paradigm to understand what is happening. You can buttress your explanation with any plots which you might generate from such new experiments."
   ]
  },
  {
   "cell_type": "code",
   "execution_count": 196,
   "metadata": {},
   "outputs": [
    {
     "name": "stdout",
     "output_type": "stream",
     "text": [
      "(20, 1) (20, 1) (20, 1) (20, 1)\n"
     ]
    },
    {
     "data": {
      "image/png": "[encoded data removed]",
      "text/plain": [
       "<Figure size 432x288 with 1 Axes>"
      ]
     },
     "metadata": {
      "needs_background": "light"
     },
     "output_type": "display_data"
    }
   ],
   "source": [
    "x_t, x_te, y_t, y_te = generate_dataset(45, 20, 20, 0)\n",
    "print(x_t.shape, x_te.shape, y_t.shape, y_te.shape)\n",
    "plt.scatter(x_te, y_te, c = 'red')\n",
    "visualize_function(45, -1, 1)\n"
   ]
  },
  {
   "cell_type": "code",
   "execution_count": 197,
   "metadata": {},
   "outputs": [
    {
     "name": "stdout",
     "output_type": "stream",
     "text": [
      "**** Model A ****\n",
      "Test error 2130630659.7025197\n",
      "Train error 62007890.86260591\n",
      "\n",
      "\n",
      "**** Model B ****\n",
      "Test error 446231088.81268865\n",
      "Train error 489305.72368427087\n"
     ]
    }
   ],
   "source": [
    "from sklearn.preprocessing import PolynomialFeatures\n",
    "from sklearn.linear_model import LinearRegression\n",
    "from sklearn.metrics import mean_squared_error\n",
    "\n",
    "# Degree 2 #\n",
    "poly = PolynomialFeatures(2)\n",
    "x_t_poly = poly.fit_transform(x_t)\n",
    "x_te_poly = poly.fit_transform(x_te)\n",
    "lr = LinearRegression()\n",
    "model = lr.fit(x_t_poly, y_t)\n",
    "y_te_pred = model.predict(x_te_poly)\n",
    "y_t_pred = model.predict(x_t_poly)\n",
    "print('**** Model A ****')\n",
    "print('Test error', mean_squared_error(y_te, y_te_pred))\n",
    "print('Train error', mean_squared_error(y_t, y_t_pred))\n",
    "\n",
    "print('\\n')\n",
    "# Degree 10 #\n",
    "poly = PolynomialFeatures(10)\n",
    "x_t_poly = poly.fit_transform(x_t)\n",
    "x_te_poly = poly.fit_transform(x_te)\n",
    "lr = LinearRegression()\n",
    "model = lr.fit(x_t_poly, y_t)\n",
    "y_te_pred = model.predict(x_te_poly)\n",
    "y_t_pred = model.predict(x_t_poly)\n",
    "\n",
    "print('**** Model B ****')\n",
    "print('Test error', mean_squared_error(y_te, y_te_pred))\n",
    "print('Train error', mean_squared_error(y_t, y_t_pred))"
   ]
  },
  {
   "cell_type": "markdown",
   "metadata": {},
   "source": [
    "Since in this case the target does not have noise, as we increase the degree of the fit polynomial it tries to capture the data as closely and accurately as possible. Thus we see both train an test error decrease as we move from Model $\\mathcal{A}$ to Model $\\mathcal{B}$"
   ]
  },
  {
   "cell_type": "code",
   "execution_count": null,
   "metadata": {},
   "outputs": [],
   "source": []
  }
 ],
 "metadata": {
  "colab": {
   "collapsed_sections": [],
   "name": "Assignment2.ipynb",
   "provenance": []
  },
  "kernel_info": {
   "name": "python3"
  },
  "kernelspec": {
   "display_name": "Python 3",
   "language": "python",
   "name": "python3"
  },
  "language_info": {
   "codemirror_mode": {
    "name": "ipython",
    "version": 3
   },
   "file_extension": ".py",
   "mimetype": "text/x-python",
   "name": "python",
   "nbconvert_exporter": "python",
   "pygments_lexer": "ipython3",
   "version": "3.7.3"
  },
  "nteract": {
   "version": "0.15.0"
  }
 },
 "nbformat": 4,
 "nbformat_minor": 1
}
