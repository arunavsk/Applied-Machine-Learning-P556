{
  "nbformat": 4,
  "nbformat_minor": 0,
  "metadata": {
    "colab": {
      "name": "A3_P556_F19.ipynb",
      "provenance": [],
      "collapsed_sections": [],
      "toc_visible": true
    },
    "kernelspec": {
      "display_name": "Python 3",
      "language": "python",
      "name": "python3"
    },
    "language_info": {
      "codemirror_mode": {
        "name": "ipython",
        "version": 3
      },
      "file_extension": ".py",
      "mimetype": "text/x-python",
      "name": "python",
      "nbconvert_exporter": "python",
      "pygments_lexer": "ipython3",
      "version": "3.7.3"
    }
  },
  "cells": [
    {
      "cell_type": "markdown",
      "metadata": {
        "colab_type": "text",
        "id": "tg9fRSjFtsRu"
      },
      "source": [
        "# Assignment #3\n",
        "## P556: Applied Machine Learning"
      ]
    },
    {
      "cell_type": "markdown",
      "metadata": {
        "colab_type": "text",
        "id": "jjsZpx5C9eBH"
      },
      "source": [
        "More often than not, we will use a deep learning library (Tensorflow, Pytorch, or the wrapper known as Keras) to implement our models. However, the abstraction afforded by those libraries can make it hard to troubleshoot issues if we don't understand what is going on under the hood. In this assignment you will implement a fully-connected and a convolutional neural network from scratch. To simplify the implementation, we are asking you to implement static architectures, but you are free to support variable number of layers/neurons/activations/optimizers/etc. We recommend that you make use of private methods so you can easily troubleshoot small parts of your model as you develop them, instead of trying to figure out which parts are not working correctly after implementing everything. Also, keep in mind that there is code from your fully-connected neural network that can be re-used on the CNN. "
      ]
    },
    {
      "cell_type": "markdown",
      "metadata": {
        "colab_type": "text",
        "id": "2NzW9M-btzqO"
      },
      "source": [
        "Problem #1.1 (40 points): Implement a fully-connected neural network from scratch. The neural network will have the following architecture:\n",
        "\n",
        "- Input layer\n",
        "- Dense hidden layer with 512 neurons, using relu as the activation function\n",
        "- Dropout with a value of 0.2\n",
        "- Dense hidden layer with 512 neurons, using relu as the activation function\n",
        "- Dropout with a value of 0.2\n",
        "- Output layer, using softmax as the activation function\n",
        "\n",
        "The model will use categorical crossentropy as its loss function. \n",
        "We will optimize the gradient descent using RMSProp, with a learning rate of 0.001 and a rho value of 0.9.\n",
        "We will evaluate the model using accuracy.\n",
        "\n",
        "Why this architecture? We are trying to reproduce from scratch the following [example from the Keras documentation](https://keras.io/examples/mnist_mlp/). This means that you can compare your results by running the Keras code provided above to see if you are on the right track."
      ]
    },
    {
      "cell_type": "markdown",
      "metadata": {
        "id": "mKLtOiqRbFkx",
        "colab_type": "text"
      },
      "source": [
        "**Imports**"
      ]
    },
    {
      "cell_type": "code",
      "metadata": {
        "id": "sk6pC2j6JMO9",
        "colab_type": "code",
        "colab": {}
      },
      "source": [
        "import numpy as np\n",
        "from sklearn.utils import shuffle\n",
        "import matplotlib.pyplot as plt\n",
        "from sklearn.model_selection import KFold\n",
        "import time\n",
        "import math"
      ],
      "execution_count": 0,
      "outputs": []
    },
    {
      "cell_type": "code",
      "metadata": {
        "id": "RDb1w0sYrIKe",
        "colab_type": "code",
        "colab": {}
      },
      "source": [
        "class Linear(object):\n",
        "  def __init__(self,input_nodes, output_nodes, activation, dropout):\n",
        "    \n",
        "    self.input_nodes = input_nodes\n",
        "    self.output_nodes = output_nodes\n",
        "    self.activation = activation\n",
        "    self.W = np.random.rand(self.input_nodes, self.output_nodes) * np.sqrt(2/self.input_nodes) # He initialization\n",
        "    self.B = np.zeros(( 1, self.output_nodes)) \n",
        "    self.s_W = np.zeros((self.input_nodes, self.output_nodes))\n",
        "    self.s_B = np.zeros((1, self.output_nodes))\n",
        "    self.dropout = dropout\n",
        "\n",
        "  def layer(self, X):\n",
        "\n",
        "    self.X = X\n",
        "    self.Z = np.dot(self.X, self.W) + self.B\n",
        "    self.A = self.activation(self.Z)\n",
        "    # return W, Z, A\n",
        "  \n",
        "  def compute_drop(self):\n",
        "\n",
        "    ## Dropout implementation from here - https://rohanvarma.me/Neural-Net/\n",
        "\n",
        "    self.keep_p = 1-self.dropout\n",
        "    mult = np.random.binomial(1, self.keep_p, size = (1, self.output_nodes))\n",
        "    self.A = self.A/self.keep_p\n",
        "    self.A *= mult\n"
      ],
      "execution_count": 0,
      "outputs": []
    },
    {
      "cell_type": "code",
      "metadata": {
        "colab_type": "code",
        "id": "8rPUmRqBtpS2",
        "colab": {}
      },
      "source": [
        "class NeuralNetwork(object):\n",
        "  def __init__(self, epochs, learning_rate, dropout, rho):\n",
        "    # network parameters go here\n",
        "    self.epochs = epochs\n",
        "    self.learning_rate = learning_rate\n",
        "    self.rho = rho\n",
        "    \n",
        "    # define the network here\n",
        "    self.l1 = Linear(784, 512, ReLU, dropout)\n",
        "    self.l2 = Linear(512, 512, ReLU, dropout)\n",
        "    self.l3 = Linear(512, 10, softmax, 0)\n",
        "  \n",
        "  def forward_pass(self, X_test = np.array([None])):\n",
        "    if X_test.all() == None:\n",
        "      input_X = self.X\n",
        "    else:\n",
        "      input_X = X_test\n",
        "    self.l1.layer(input_X)\n",
        "    self.l1.compute_drop()\n",
        "    self.l2.layer(self.l1.A)\n",
        "    self.l2.compute_drop()\n",
        "    self.l3.layer(self.l2.A)\n",
        "    self.output = self.l3.A\n",
        "\n",
        "  def correct_predictions(self, actuals = np.array([None])):\n",
        "    if actuals.all() == None:\n",
        "      actuals = self.y\n",
        "    correct_pred = sum(np.argmax(self.l3.A, axis=1) == np.argmax(actuals, axis = 1))\n",
        "    return correct_pred\n",
        "\n",
        "  def calculate_loss(self):\n",
        "    log_likelihood = -self.y* np.log(self.output)\n",
        "    loss = np.sum(log_likelihood)/len(self.y)\n",
        "    self.loss = loss\n",
        "    return loss\n",
        "\n",
        "  def backward_pass(self):\n",
        "\n",
        "    m = self.X.shape[0]\n",
        "\n",
        "    derv_Z3_wrt_W3 = self.l2.A\n",
        "    derv_loss_wrt_Z3 = self.l3.A - self.y\n",
        "    self.grad_W3 = 1/m * (np.dot(derv_Z3_wrt_W3.T, derv_loss_wrt_Z3))\n",
        "    self.grad_B3 = 1/m * (np.dot(np.ones((1, m)), derv_loss_wrt_Z3))\n",
        "\n",
        "    derv_Z2_wrt_W2 = self.l1.A\n",
        "    derv_A2_wrt_Z2 = (self.l2.Z > 0).astype('int')\n",
        "    derv_loss_wrt_A2 = np.dot(derv_loss_wrt_Z3, self.l3.W.T)\n",
        "\n",
        "    self.grad_W2 = 1/m * (np.dot(derv_Z2_wrt_W2.T, derv_loss_wrt_A2 * derv_A2_wrt_Z2))\n",
        "    self.grad_B2 = 1/m * (np.dot(np.ones((1, m)), derv_loss_wrt_A2 * derv_A2_wrt_Z2)) \n",
        "\n",
        "    derv_Z1_wrt_W1 = self.l1.X\n",
        "    derv_A1_wrt_Z1 = (self.l1.Z > 0).astype('int')\n",
        "    derv_loss_wrt_A1 = np.dot(derv_loss_wrt_A2 * derv_A2_wrt_Z2 , self.l2.W.T)\n",
        "\n",
        "    self.grad_W1 = 1/m * (np.dot(derv_Z1_wrt_W1.T, derv_loss_wrt_A1 * derv_A1_wrt_Z1))\n",
        "    self.grad_B1 = 1/m * (np.dot(np.ones((1, m)), derv_loss_wrt_A1 * derv_A1_wrt_Z1))\n",
        "    \n",
        "  def update_weights_bias(self):\n",
        "    self.l1.W -= self.learning_rate * self.grad_W1\n",
        "    self.l1.B -= self.learning_rate * self.grad_B1\n",
        "    self.l2.W -= self.learning_rate * self.grad_W2\n",
        "    self.l2.B -= self.learning_rate * self.grad_B2\n",
        "    self.l3.W -= self.learning_rate * self.grad_W3\n",
        "    self.l3.B -= self.learning_rate * self.grad_B3\n",
        "\n",
        "  def calculate_gradient_velocities(self):\n",
        "    self.l1.s_W = self.rho * self.l1.s_W + (1-self.rho) * (self.grad_W1**2)\n",
        "    self.l2.s_W = self.rho * self.l2.s_W + (1-self.rho) * (self.grad_W2**2)\n",
        "    self.l3.s_W = self.rho * self.l3.s_W + (1-self.rho) * (self.grad_W3**2)\n",
        "    \n",
        "    self.l1.s_B = self.rho * self.l1.s_B + (1-self.rho) * (self.grad_B1**2)\n",
        "    self.l2.s_B = self.rho * self.l2.s_B + (1-self.rho) * (self.grad_B2**2)\n",
        "    self.l3.s_B = self.rho * self.l3.s_B + (1-self.rho) * (self.grad_B3**2)\n",
        "\n",
        "  def update_weights_bias_RMSProp(self):\n",
        "    epsilon = 0.00000001\n",
        "\n",
        "    self.calculate_gradient_velocities()\n",
        "    self.l1.W -= self.learning_rate * (self.grad_W1/(np.sqrt(self.l1.s_W)+epsilon))\n",
        "    self.l1.B -= self.learning_rate * (self.grad_B1/(np.sqrt(self.l1.s_B)+epsilon))\n",
        "    self.l2.W -= self.learning_rate * (self.grad_W2/(np.sqrt(self.l2.s_W)+epsilon))\n",
        "    self.l2.B -= self.learning_rate * (self.grad_B2/(np.sqrt(self.l2.s_B)+epsilon))\n",
        "    self.l3.W -= self.learning_rate * (self.grad_W3/(np.sqrt(self.l3.s_W)+epsilon))\n",
        "    self.l3.B -= self.learning_rate * (self.grad_B3/(np.sqrt(self.l3.s_B)+epsilon))\n",
        "    pass\n",
        "\n",
        "\n",
        "  def fit(self, X, y, batch_size):\n",
        "    X, y = shuffle(X, y, random_state=0)\n",
        "    for epoch in range(self.epochs):\n",
        "      loss = 0\n",
        "      correct = 0\n",
        "      for i in range(0, X.shape[0], batch_size):\n",
        "        self.X = X[i:i + batch_size] # mini batch\n",
        "        self.y = y[i:i + batch_size]\n",
        "        self.forward_pass()\n",
        "        loss_epoch =  self.calculate_loss()\n",
        "        loss += loss_epoch\n",
        "        correct += self.correct_predictions()\n",
        "        self.backward_pass()\n",
        "        #self.update_weights_bias() # Gradient Descent\n",
        "        self.update_weights_bias_RMSProp() # RMSProp\n",
        "      print('Epoch', epoch, '======= Loss', loss, '======== Accuracy', \\\n",
        "            round((correct/X.shape[0])*100,2))\n",
        "    print('\\nAccuracy on Train set after',self.epochs,'epochs :',round((correct/X.shape[0])*100,2))\n",
        "    pass\n",
        "   \n",
        "  def evaluate(self, X_test, y_test):\n",
        "    self.forward_pass(X_test)\n",
        "    correct = self.correct_predictions(y_test)\n",
        "    return correct\n",
        "\n",
        "\n"
      ],
      "execution_count": 0,
      "outputs": []
    },
    {
      "cell_type": "markdown",
      "metadata": {
        "id": "zchsMs_6pSN4",
        "colab_type": "text"
      },
      "source": [
        "**Activation Functions**"
      ]
    },
    {
      "cell_type": "code",
      "metadata": {
        "id": "IhJNE2WYPcXe",
        "colab_type": "code",
        "colab": {}
      },
      "source": [
        "## RELU\n",
        "f = lambda x: x if x > 0 else 0\n",
        "ReLU = np.vectorize(f)\n",
        "\n",
        "## Softmax\n",
        "def softmax_helper(x):\n",
        "    \"\"\"Compute softmax values for each sets of scores in x.\"\"\"\n",
        "    epsilon = 0.000000001\n",
        "    e_x = np.exp(x - np.max(x)) + epsilon\n",
        "    # e_x = np.exp(x / x.max())\n",
        "    return e_x / (e_x.sum())\n",
        "def softmax(x):\n",
        "    return np.array(list(map(softmax_helper,x)))"
      ],
      "execution_count": 0,
      "outputs": []
    },
    {
      "cell_type": "markdown",
      "metadata": {
        "colab_type": "text",
        "id": "DH3bgJyPuE2O"
      },
      "source": [
        "Problem #1.2 (10 points): Train your fully-connected neural network on the Fashion-MNIST dataset using 5-fold cross validation. Report accuracy on the folds, as well as on the test set."
      ]
    },
    {
      "cell_type": "markdown",
      "metadata": {
        "id": "jdbx0NVv8K52",
        "colab_type": "text"
      },
      "source": [
        "**Load the data**"
      ]
    },
    {
      "cell_type": "code",
      "metadata": {
        "colab_type": "code",
        "id": "XsN4sUoUugl8",
        "outputId": "7d64d756-b929-4f76-9fc8-fdf22f3cd3a1",
        "colab": {
          "base_uri": "https://localhost:8080/",
          "height": 250
        }
      },
      "source": [
        "# To simplify the usage of our dataset, we will be importing it from the Keras \n",
        "# library. Keras can be installed using pip: python -m pip install keras\n",
        "\n",
        "# Original source for the dataset:\n",
        "# https://github.com/zalandoresearch/fashion-mnist\n",
        "\n",
        "# Reference to the Fashion-MNIST's Keras function: \n",
        "# https://keras.io/datasets/#fashion-mnist-database-of-fashion-articles\n",
        "\n",
        "import keras\n",
        "from keras.datasets import fashion_mnist\n",
        "\n",
        "# the data, split between train and test sets\n",
        "(X_train, Y_train), (X_test, Y_test) = fashion_mnist.load_data()\n",
        "\n",
        "x_train = X_train.reshape(60000, 784)\n",
        "x_test = X_test.reshape(10000, 784)\n",
        "x_train = x_train.astype('float32')\n",
        "x_test = x_test.astype('float32')\n",
        "x_train /= 255\n",
        "x_test /= 255\n",
        "print(x_train.shape[0], 'train samples')\n",
        "print(x_test.shape[0], 'test samples')\n",
        "\n",
        "# convert class vectors to binary class matrices\n",
        "num_classes = 10\n",
        "y_train = keras.utils.to_categorical(Y_train, num_classes)\n",
        "y_test = keras.utils.to_categorical(Y_test, num_classes)"
      ],
      "execution_count": 0,
      "outputs": [
        {
          "output_type": "stream",
          "text": [
            "Using TensorFlow backend.\n"
          ],
          "name": "stderr"
        },
        {
          "output_type": "display_data",
          "data": {
            "text/html": [
              "<p style=\"color: red;\">\n",
              "The default version of TensorFlow in Colab will soon switch to TensorFlow 2.x.<br>\n",
              "We recommend you <a href=\"https://www.tensorflow.org/guide/migrate\" target=\"_blank\">upgrade</a> now \n",
              "or ensure your notebook will continue to use TensorFlow 1.x via the <code>%tensorflow_version 1.x</code> magic:\n",
              "<a href=\"https://colab.research.google.com/notebooks/tensorflow_version.ipynb\" target=\"_blank\">more info</a>.</p>\n"
            ],
            "text/plain": [
              "<IPython.core.display.HTML object>"
            ]
          },
          "metadata": {
            "tags": []
          }
        },
        {
          "output_type": "stream",
          "text": [
            "Downloading data from http://fashion-mnist.s3-website.eu-central-1.amazonaws.com/train-labels-idx1-ubyte.gz\n",
            "32768/29515 [=================================] - 0s 1us/step\n",
            "Downloading data from http://fashion-mnist.s3-website.eu-central-1.amazonaws.com/train-images-idx3-ubyte.gz\n",
            "26427392/26421880 [==============================] - 1s 0us/step\n",
            "Downloading data from http://fashion-mnist.s3-website.eu-central-1.amazonaws.com/t10k-labels-idx1-ubyte.gz\n",
            "8192/5148 [===============================================] - 0s 0us/step\n",
            "Downloading data from http://fashion-mnist.s3-website.eu-central-1.amazonaws.com/t10k-images-idx3-ubyte.gz\n",
            "4423680/4422102 [==============================] - 0s 0us/step\n",
            "60000 train samples\n",
            "10000 test samples\n"
          ],
          "name": "stdout"
        }
      ]
    },
    {
      "cell_type": "markdown",
      "metadata": {
        "id": "nfm8s1iP8Xem",
        "colab_type": "text"
      },
      "source": [
        "**Visualize the data**"
      ]
    },
    {
      "cell_type": "code",
      "metadata": {
        "id": "YjTVUMU97iae",
        "colab_type": "code",
        "outputId": "55037e94-00e0-47ba-b4f3-573bc0e88e4f",
        "colab": {
          "base_uri": "https://localhost:8080/",
          "height": 273
        }
      },
      "source": [
        "n_images = 20\n",
        "p = np.random.permutation(len(X_train))[:n_images]\n",
        "\n",
        "random_images = X_train[p]\n",
        "random_labels = Y_train[p]\n",
        "fig = plt.figure(figsize=(4,4))\n",
        "for i in range(n_images):\n",
        "  fig.add_subplot(n_images//5,5,i+1)\n",
        "  plt.axis('off')\n",
        "  plt.imshow(random_images[i], cmap = 'gray')\n",
        "  plt.title(random_labels[i])\n",
        "plt.show"
      ],
      "execution_count": 0,
      "outputs": [
        {
          "output_type": "execute_result",
          "data": {
            "text/plain": [
              "<function matplotlib.pyplot.show>"
            ]
          },
          "metadata": {
            "tags": []
          },
          "execution_count": 6
        },
        {
          "output_type": "display_data",
          "data": {
            "image/png": "[encoded data removed]",
            "text/plain": [
              "<Figure size 288x288 with 20 Axes>"
            ]
          },
          "metadata": {
            "tags": []
          }
        }
      ]
    },
    {
      "cell_type": "markdown",
      "metadata": {
        "id": "60UVVlLj8buk",
        "colab_type": "text"
      },
      "source": [
        "**Training**"
      ]
    },
    {
      "cell_type": "code",
      "metadata": {
        "id": "Y9GlB3Ql6ycP",
        "colab_type": "code",
        "colab": {}
      },
      "source": [
        "epochs = 20\n",
        "lr = 0.001\n",
        "drop_out = 0.2\n",
        "rho = 0.9\n",
        "batch_size = 200\n"
      ],
      "execution_count": 0,
      "outputs": []
    },
    {
      "cell_type": "markdown",
      "metadata": {
        "id": "hGppVJovat5I",
        "colab_type": "text"
      },
      "source": [
        "**K-Fold Cross Validation**"
      ]
    },
    {
      "cell_type": "code",
      "metadata": {
        "id": "gTdNXxn--ifQ",
        "colab_type": "code",
        "outputId": "b452bc9a-25d9-4d4b-e8a6-e7739e45bf82",
        "colab": {
          "base_uri": "https://localhost:8080/",
          "height": 1000
        }
      },
      "source": [
        "X = x_train\n",
        "y = y_train\n",
        "\n",
        "kf = KFold(n_splits=5)\n",
        "fold = 1\n",
        "accuracies = []\n",
        "for train_index, val_index in kf.split(X):\n",
        "  print(\"\\n### Fold:\", fold,'###')\n",
        "  X_tr, X_val = X[train_index], X[val_index]\n",
        "  y_tr, y_val = y[train_index], y[val_index]\n",
        "  fcn = NeuralNetwork(epochs, lr, drop_out, rho)\n",
        "  fcn.fit(X_tr, y_tr, batch_size)\n",
        "  correct = fcn.evaluate(X_val, y_val)\n",
        "  accuracies.append(round((correct/X_val.shape[0])*100,2))\n",
        "  print('Accuracy on hold-out Validation set:', accuracies[fold-1])\n",
        "  fold += 1\n",
        "print('\\nAverage validation accuracy after 5 fold cross-validation:', np.mean(accuracies))"
      ],
      "execution_count": 0,
      "outputs": [
        {
          "output_type": "stream",
          "text": [
            "\n",
            "### Fold: 1 ###\n",
            "Epoch 0 ======= Loss 524.7462766998129 ======== Accuracy 51.29\n",
            "Epoch 1 ======= Loss 152.47035106338532 ======== Accuracy 78.46\n",
            "Epoch 2 ======= Loss 127.47332022859493 ======== Accuracy 81.98\n",
            "Epoch 3 ======= Loss 115.4933423040421 ======== Accuracy 83.68\n",
            "Epoch 4 ======= Loss 107.60059118413875 ======== Accuracy 84.67\n",
            "Epoch 5 ======= Loss 99.54101054841001 ======== Accuracy 85.71\n",
            "Epoch 6 ======= Loss 91.63174540861101 ======== Accuracy 86.65\n",
            "Epoch 7 ======= Loss 87.57772255955157 ======== Accuracy 87.17\n",
            "Epoch 8 ======= Loss 82.15129502428638 ======== Accuracy 88.03\n",
            "Epoch 9 ======= Loss 78.98318274765316 ======== Accuracy 88.41\n",
            "Epoch 10 ======= Loss 76.57402204043518 ======== Accuracy 88.69\n",
            "Epoch 11 ======= Loss 73.3755604961847 ======== Accuracy 89.16\n",
            "Epoch 12 ======= Loss 70.88745970430348 ======== Accuracy 89.4\n",
            "Epoch 13 ======= Loss 68.82344553038679 ======== Accuracy 89.81\n",
            "Epoch 14 ======= Loss 66.16226421234316 ======== Accuracy 90.08\n",
            "Epoch 15 ======= Loss 65.21149572643252 ======== Accuracy 90.18\n",
            "Epoch 16 ======= Loss 62.41482431195845 ======== Accuracy 90.67\n",
            "Epoch 17 ======= Loss 61.739906109345654 ======== Accuracy 90.7\n",
            "Epoch 18 ======= Loss 60.84290658303365 ======== Accuracy 90.81\n",
            "Epoch 19 ======= Loss 59.86509212349062 ======== Accuracy 91.03\n",
            "\n",
            "Accuracy on Train set after 20 epochs : 91.03\n",
            "Accuracy on hold-out Validation set: 87.21\n",
            "\n",
            "### Fold: 2 ###\n",
            "Epoch 0 ======= Loss 519.380270841278 ======== Accuracy 55.15\n",
            "Epoch 1 ======= Loss 149.6230159974063 ======== Accuracy 78.98\n",
            "Epoch 2 ======= Loss 131.94165943462363 ======== Accuracy 81.95\n",
            "Epoch 3 ======= Loss 118.27972899305621 ======== Accuracy 83.44\n",
            "Epoch 4 ======= Loss 105.60746882673654 ======== Accuracy 85.05\n",
            "Epoch 5 ======= Loss 96.81497626627528 ======== Accuracy 85.89\n",
            "Epoch 6 ======= Loss 90.691219195821 ======== Accuracy 86.85\n",
            "Epoch 7 ======= Loss 85.7428888476734 ======== Accuracy 87.51\n",
            "Epoch 8 ======= Loss 82.05944636963139 ======== Accuracy 87.89\n",
            "Epoch 9 ======= Loss 76.91996234991312 ======== Accuracy 88.6\n",
            "Epoch 10 ======= Loss 74.7995177235081 ======== Accuracy 88.92\n",
            "Epoch 11 ======= Loss 72.35001890232391 ======== Accuracy 89.25\n",
            "Epoch 12 ======= Loss 69.56926051766536 ======== Accuracy 89.56\n",
            "Epoch 13 ======= Loss 67.4245926674436 ======== Accuracy 89.84\n",
            "Epoch 14 ======= Loss 66.27193907862171 ======== Accuracy 90.12\n",
            "Epoch 15 ======= Loss 63.658064416338306 ======== Accuracy 90.55\n",
            "Epoch 16 ======= Loss 62.533230997877695 ======== Accuracy 90.65\n",
            "Epoch 17 ======= Loss 61.44811521036054 ======== Accuracy 90.7\n",
            "Epoch 18 ======= Loss 60.822446050247486 ======== Accuracy 90.88\n",
            "Epoch 19 ======= Loss 59.49195149544105 ======== Accuracy 91.2\n",
            "\n",
            "Accuracy on Train set after 20 epochs : 91.2\n",
            "Accuracy on hold-out Validation set: 87.85\n",
            "\n",
            "### Fold: 3 ###\n",
            "Epoch 0 ======= Loss 509.58777363705957 ======== Accuracy 52.95\n",
            "Epoch 1 ======= Loss 159.2385472523021 ======== Accuracy 77.89\n",
            "Epoch 2 ======= Loss 132.71750196912402 ======== Accuracy 81.55\n",
            "Epoch 3 ======= Loss 116.50361475309488 ======== Accuracy 83.62\n",
            "Epoch 4 ======= Loss 105.56524398824858 ======== Accuracy 85.04\n",
            "Epoch 5 ======= Loss 98.05986233005927 ======== Accuracy 85.86\n",
            "Epoch 6 ======= Loss 91.50095248064648 ======== Accuracy 86.69\n",
            "Epoch 7 ======= Loss 85.8882160929675 ======== Accuracy 87.5\n",
            "Epoch 8 ======= Loss 83.74254890174231 ======== Accuracy 87.68\n",
            "Epoch 9 ======= Loss 78.76027284805308 ======== Accuracy 88.44\n",
            "Epoch 10 ======= Loss 76.21203903344993 ======== Accuracy 88.8\n",
            "Epoch 11 ======= Loss 72.76303750028073 ======== Accuracy 89.22\n",
            "Epoch 12 ======= Loss 71.36212449590737 ======== Accuracy 89.41\n",
            "Epoch 13 ======= Loss 68.21528836936082 ======== Accuracy 89.76\n",
            "Epoch 14 ======= Loss 66.77457419484996 ======== Accuracy 89.78\n",
            "Epoch 15 ======= Loss 65.34488362743278 ======== Accuracy 90.24\n",
            "Epoch 16 ======= Loss 63.90366469311039 ======== Accuracy 90.36\n",
            "Epoch 17 ======= Loss 61.864030267632586 ======== Accuracy 90.69\n",
            "Epoch 18 ======= Loss 61.62340637013629 ======== Accuracy 90.62\n",
            "Epoch 19 ======= Loss 59.68417153476441 ======== Accuracy 90.89\n",
            "\n",
            "Accuracy on Train set after 20 epochs : 90.89\n",
            "Accuracy on hold-out Validation set: 87.88\n",
            "\n",
            "### Fold: 4 ###\n",
            "Epoch 0 ======= Loss 509.3600411756687 ======== Accuracy 51.27\n",
            "Epoch 1 ======= Loss 151.39787073064232 ======== Accuracy 78.49\n",
            "Epoch 2 ======= Loss 124.46799382957266 ======== Accuracy 82.11\n",
            "Epoch 3 ======= Loss 110.52556296445566 ======== Accuracy 83.99\n",
            "Epoch 4 ======= Loss 103.50812794368754 ======== Accuracy 85.2\n",
            "Epoch 5 ======= Loss 96.80526221238432 ======== Accuracy 85.9\n",
            "Epoch 6 ======= Loss 90.99846102222828 ======== Accuracy 86.61\n",
            "Epoch 7 ======= Loss 85.89185759858817 ======== Accuracy 87.39\n",
            "Epoch 8 ======= Loss 81.62926949035885 ======== Accuracy 87.73\n",
            "Epoch 9 ======= Loss 76.9670839943708 ======== Accuracy 88.52\n",
            "Epoch 10 ======= Loss 74.99057995877915 ======== Accuracy 88.74\n",
            "Epoch 11 ======= Loss 72.0136199482566 ======== Accuracy 89.18\n",
            "Epoch 12 ======= Loss 70.1589634385767 ======== Accuracy 89.44\n",
            "Epoch 13 ======= Loss 67.7389259740991 ======== Accuracy 89.81\n",
            "Epoch 14 ======= Loss 66.30209907860862 ======== Accuracy 90.09\n",
            "Epoch 15 ======= Loss 64.15282094951644 ======== Accuracy 90.2\n",
            "Epoch 16 ======= Loss 62.89602260694351 ======== Accuracy 90.47\n",
            "Epoch 17 ======= Loss 61.72156959152726 ======== Accuracy 90.54\n",
            "Epoch 18 ======= Loss 60.483615830091686 ======== Accuracy 90.68\n",
            "Epoch 19 ======= Loss 60.26761472856089 ======== Accuracy 90.88\n",
            "\n",
            "Accuracy on Train set after 20 epochs : 90.88\n",
            "Accuracy on hold-out Validation set: 87.27\n",
            "\n",
            "### Fold: 5 ###\n",
            "Epoch 0 ======= Loss 485.7642685078425 ======== Accuracy 54.0\n",
            "Epoch 1 ======= Loss 149.46100602320612 ======== Accuracy 78.91\n",
            "Epoch 2 ======= Loss 126.65002517817705 ======== Accuracy 82.24\n",
            "Epoch 3 ======= Loss 111.65839583802625 ======== Accuracy 83.95\n",
            "Epoch 4 ======= Loss 102.54761256262006 ======== Accuracy 85.31\n",
            "Epoch 5 ======= Loss 94.59554911627691 ======== Accuracy 86.32\n",
            "Epoch 6 ======= Loss 88.9821140908136 ======== Accuracy 87.05\n",
            "Epoch 7 ======= Loss 84.81479966380509 ======== Accuracy 87.62\n",
            "Epoch 8 ======= Loss 80.33124478746392 ======== Accuracy 88.21\n",
            "Epoch 9 ======= Loss 77.23061052669108 ======== Accuracy 88.64\n",
            "Epoch 10 ======= Loss 74.5159579165184 ======== Accuracy 88.91\n",
            "Epoch 11 ======= Loss 70.95353471331498 ======== Accuracy 89.41\n",
            "Epoch 12 ======= Loss 68.659368215513 ======== Accuracy 89.71\n",
            "Epoch 13 ======= Loss 67.17477754884551 ======== Accuracy 90.0\n",
            "Epoch 14 ======= Loss 65.55779167759182 ======== Accuracy 90.16\n",
            "Epoch 15 ======= Loss 63.51120510945781 ======== Accuracy 90.59\n",
            "Epoch 16 ======= Loss 61.58852541534932 ======== Accuracy 90.69\n",
            "Epoch 17 ======= Loss 60.34983301911251 ======== Accuracy 91.0\n",
            "Epoch 18 ======= Loss 58.83791243693048 ======== Accuracy 90.96\n",
            "Epoch 19 ======= Loss 57.966695181508854 ======== Accuracy 91.25\n",
            "\n",
            "Accuracy on Train set after 20 epochs : 91.25\n",
            "Accuracy on hold-out Validation set: 85.74\n",
            "\n",
            "Average validation accuracy after 5 fold cross-validation: 87.19\n"
          ],
          "name": "stdout"
        }
      ]
    },
    {
      "cell_type": "markdown",
      "metadata": {
        "id": "QQq8cesI8hVf",
        "colab_type": "text"
      },
      "source": [
        "**Testing**"
      ]
    },
    {
      "cell_type": "code",
      "metadata": {
        "id": "3M0rkvR18i0O",
        "colab_type": "code",
        "outputId": "0b6b2528-8e25-4d99-8d60-177a8642c180",
        "colab": {
          "base_uri": "https://localhost:8080/",
          "height": 408
        }
      },
      "source": [
        "\n",
        "fcn = NeuralNetwork(epochs, lr, drop_out, rho)\n",
        "fcn.fit(x_train, y_train, batch_size)\n",
        "\n",
        "correct_predictions = fcn.evaluate(x_test, y_test)\n",
        "print('Accuracy on Test set:', round((correct_predictions/x_test.shape[0])*100,2))"
      ],
      "execution_count": 0,
      "outputs": [
        {
          "output_type": "stream",
          "text": [
            "Epoch 0 ======= Loss 579.6430536704257 ======== Accuracy 58.67\n",
            "Epoch 1 ======= Loss 178.2550213613966 ======== Accuracy 80.03\n",
            "Epoch 2 ======= Loss 145.8154195814356 ======== Accuracy 83.22\n",
            "Epoch 3 ======= Loss 127.98572769091096 ======== Accuracy 85.04\n",
            "Epoch 4 ======= Loss 115.78228541338511 ======== Accuracy 86.31\n",
            "Epoch 5 ======= Loss 109.40091862490036 ======== Accuracy 87.11\n",
            "Epoch 6 ======= Loss 104.48706202625362 ======== Accuracy 87.68\n",
            "Epoch 7 ======= Loss 98.7664171816656 ======== Accuracy 88.29\n",
            "Epoch 8 ======= Loss 94.7036485056005 ======== Accuracy 88.63\n",
            "Epoch 9 ======= Loss 90.68832634112549 ======== Accuracy 89.12\n",
            "Epoch 10 ======= Loss 89.00911958423737 ======== Accuracy 89.32\n",
            "Epoch 11 ======= Loss 86.16037332143165 ======== Accuracy 89.58\n",
            "Epoch 12 ======= Loss 83.39928174329489 ======== Accuracy 89.9\n",
            "Epoch 13 ======= Loss 81.38024866953708 ======== Accuracy 90.08\n",
            "Epoch 14 ======= Loss 80.35091281264904 ======== Accuracy 90.17\n",
            "Epoch 15 ======= Loss 78.91184958396755 ======== Accuracy 90.46\n",
            "Epoch 16 ======= Loss 79.81900666226856 ======== Accuracy 90.53\n",
            "Epoch 17 ======= Loss 77.53948841249097 ======== Accuracy 90.56\n",
            "Epoch 18 ======= Loss 77.95123594998209 ======== Accuracy 90.49\n",
            "Epoch 19 ======= Loss 77.53509306513169 ======== Accuracy 90.81\n",
            "\n",
            "Accuracy on Train set after 20 epochs : 90.81\n",
            "Accuracy on Test set: 86.07\n"
          ],
          "name": "stdout"
        }
      ]
    },
    {
      "cell_type": "markdown",
      "metadata": {
        "colab_type": "text",
        "id": "NsYWLhVUt_In"
      },
      "source": [
        "Problem #2.1 (40 points): Implement a Convolutional Neural Network from scratch. Similarly to problem 1.1, we will be implementing the same architecture as the one shown in [Keras' CNN documentation](https://keras.io/examples/mnist_cnn/). That is:\n",
        "\n",
        "- Input layer\n",
        "- Convolutional hidden layer with 32 neurons, a kernel size of (3,3), and relu activation function\n",
        "- Convolutional hidden layer with 64 neurons, a kernel size of (3,3), and relu activation function\n",
        "- Maxpooling with a pool size of (2,2)\n",
        "- Dropout with a value of 0.25\n",
        "- Flatten layer\n",
        "- Dense hidden layer, with 128 neurons, and relu activation function\n",
        "- Dropout with a value of 0.5\n",
        "- Output layer, using softmax as the activation function\n",
        "\n",
        "Our loss function is categorical crossentropy and the evaluation will be done using accuracy, as in Problem 1.1. However, we will not be using the gradient optimizer known as Adadelta."
      ]
    },
    {
      "cell_type": "code",
      "metadata": {
        "colab_type": "code",
        "id": "wEGyV8qTvX7H",
        "colab": {}
      },
      "source": [
        "class ConvolutionalNeuralNetwork(object):\n",
        "  def __init__(epochs, learning_rate):\n",
        "    pass\n",
        "  \n",
        "  def fit(self):\n",
        "    pass\n",
        "  \n",
        "  def evaluate(self):\n",
        "    pass"
      ],
      "execution_count": 0,
      "outputs": []
    },
    {
      "cell_type": "markdown",
      "metadata": {
        "colab_type": "text",
        "id": "nmek2iUovYEk"
      },
      "source": [
        "Problem #2.2 (10 points): Train your convolutional neural network on the Fashion-MNIST dataset using 5-fold cross validation. Report accuracy on the folds, as well as on the test set."
      ]
    },
    {
      "cell_type": "code",
      "metadata": {
        "colab_type": "code",
        "id": "B6VsoxNSwFVH",
        "colab": {}
      },
      "source": [
        "import keras\n",
        "from keras.datasets import fashion_mnist\n",
        "\n",
        "# the data, split between train and test sets\n",
        "(x_train, y_train), (x_test, y_test) = fashion_mnist.load_data()\n",
        "\n",
        "x_train = x_train.reshape(60000, 784)\n",
        "x_test = x_test.reshape(10000, 784)\n",
        "x_train = x_train.astype('float32')\n",
        "x_test = x_test.astype('float32')\n",
        "x_train /= 255\n",
        "x_test /= 255\n",
        "print(x_train.shape[0], 'train samples')\n",
        "print(x_test.shape[0], 'test samples')\n",
        "\n",
        "# convert class vectors to binary class matrices\n",
        "num_classes = 10\n",
        "y_train = keras.utils.to_categorical(y_train, num_classes)\n",
        "y_test = keras.utils.to_categorical(y_test, num_classes)"
      ],
      "execution_count": 0,
      "outputs": []
    }
  ]
}